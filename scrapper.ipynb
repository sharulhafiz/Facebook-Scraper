{
 "cells": [
  {
   "cell_type": "code",
   "execution_count": 26,
   "metadata": {},
   "outputs": [],
   "source": [
    "import pandas as pd\n",
    "# from facebook_scraper import get_posts\n",
    "import time\n",
    "from facebook_scraper import *\n",
    "set_user_agent(\n",
    "    \"Mozilla/5.0 (compatible; Googlebot/2.1; +http://www.google.com/bot.html)\")\n"
   ]
  },
  {
   "cell_type": "code",
   "execution_count": 27,
   "metadata": {},
   "outputs": [],
   "source": [
    "datas = []\n",
    "# options = {\"comments\": True, \"progress\": True,\n",
    "#            \"allow_extra_requests\": False, \"posts_per_page\": 10}\n",
    "# for post in get_posts('jlandofficial', pages=1, extra_info=True, options=options):\n",
    "# \tprint(post[\"text\"])\n",
    "# \tdatas.append(post)\n",
    "# \ttime.sleep(3)\n",
    "\n",
    "listposts = []\n",
    "for post in get_posts('jlandofficial', pages=2):\n",
    "    print(post['text'][:50])\n",
    "    listposts.append(post)"
   ]
  },
  {
   "cell_type": "code",
   "execution_count": 28,
   "metadata": {},
   "outputs": [],
   "source": [
    "df = pd.DataFrame(listposts)\n",
    "df.to_excel('data.xlsx', header=True, index=False)\n"
   ]
  }
 ],
 "metadata": {
  "interpreter": {
   "hash": "6d46af94c2bbce495f1e668725902fa517c90b1782bcfe2fce0dd9868df553d3"
  },
  "kernelspec": {
   "display_name": "Python 3.9.7 ('base')",
   "language": "python",
   "name": "python3"
  },
  "language_info": {
   "codemirror_mode": {
    "name": "ipython",
    "version": 3
   },
   "file_extension": ".py",
   "mimetype": "text/x-python",
   "name": "python",
   "nbconvert_exporter": "python",
   "pygments_lexer": "ipython3",
   "version": "3.9.7"
  },
  "orig_nbformat": 4
 },
 "nbformat": 4,
 "nbformat_minor": 2
}
